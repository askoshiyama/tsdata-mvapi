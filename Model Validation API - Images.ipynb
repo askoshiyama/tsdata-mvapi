{
 "cells": [
  {
   "cell_type": "code",
   "execution_count": 1,
   "metadata": {},
   "outputs": [],
   "source": [
    "%matplotlib inline\n",
    "import numpy as np\n",
    "import pandas as pd\n",
    "import seaborn as sns\n",
    "import matplotlib.pyplot as plt\n",
    "import matplotlib as mpl\n",
    "import os, pickle, sys\n",
    "sns.set_style(\"ticks\")\n",
    "sns.set_context(\"poster\")"
   ]
  },
  {
   "cell_type": "markdown",
   "metadata": {},
   "source": [
    "# MV Strategies"
   ]
  },
  {
   "cell_type": "markdown",
   "metadata": {},
   "source": [
    "## Parameters"
   ]
  },
  {
   "cell_type": "code",
   "execution_count": 2,
   "metadata": {},
   "outputs": [],
   "source": [
    "import model_evaluation\n",
    "me_params = {\"method\": \"stationary_bootstrap\",\n",
    "             \"k_fold_cv\": {\n",
    "                 \"k\": 10,\n",
    "                 \"init_stat\": 10\n",
    "             },\n",
    "             \"iid_bootstrap\": {\n",
    "                 \"init_stat\": 10,\n",
    "                 \"B\": 50\n",
    "             },\n",
    "             \"stationary_bootstrap\": {\n",
    "                 \"init_stat\": 10,\n",
    "                 \"B\": 10,\n",
    "                 \"block_size\": 10\n",
    "             },\n",
    "             \"circular_bootstrap\": {\n",
    "                 \"init_stat\": 10,\n",
    "                 \"B\": 10,\n",
    "                 \"block_size\": 10\n",
    "             },\n",
    "             \"block_bootstrap\": {\n",
    "                 \"init_stat\": 10,\n",
    "                 \"B\": 10,\n",
    "                 \"block_size\": 10\n",
    "             },\n",
    "             \"naive\": {\n",
    "\n",
    "             },\n",
    "             \"holdout_end\": {\n",
    "                 \"holdout_size\": 20\n",
    "             },\n",
    "             \"window_based\": {\n",
    "                 \"warmup_period\": 10,\n",
    "                 \"test_size\": 10,\n",
    "                 \"stride_size\": 0\n",
    "             },\n",
    "             \"block_cv\": {\n",
    "                 \"test_size\": 20\n",
    "             },\n",
    "             \"partitioned_cv\": {\n",
    "                 \"init_stat\": 10,\n",
    "                 \"subset_size\": 10,\n",
    "                 \"test_perc\": 20\n",
    "             },\n",
    "             \"hvblock_cv\": {\n",
    "                 \"test_size\": 10,\n",
    "                 \"gap_size\": 10\n",
    "             },\n",
    "             \"markov_cv\": {\n",
    "                 \"gap_size\": 5\n",
    "             },\n",
    "             \"combsym_cv\":{\n",
    "                 \"splits\": 4\n",
    "             }\n",
    "             }"
   ]
  },
  {
   "cell_type": "markdown",
   "metadata": {},
   "source": [
    "## MV Charts"
   ]
  },
  {
   "cell_type": "code",
   "execution_count": 3,
   "metadata": {},
   "outputs": [
    {
     "data": {
      "text/plain": [
       "Text(0.5,1.15,'stationary_bootstrap')"
      ]
     },
     "execution_count": 3,
     "metadata": {},
     "output_type": "execute_result"
    },
    {
     "data": {
      "image/png": "[encoded data removed]",
      "text/plain": [
       "<Figure size 1080x288 with 1 Axes>"
      ]
     },
     "metadata": {},
     "output_type": "display_data"
    }
   ],
   "source": [
    "# dataset idx\n",
    "n = 100\n",
    "idx = np.array(list(range(n)))\n",
    "mv_api = model_evaluation.ModelEvaluation(idx, me_params)\n",
    "\n",
    "# image\n",
    "fig, ax = plt.subplots(figsize = (15, 4))\n",
    "for i in range(mv_api.max_iters):\n",
    "    mv_sets = mv_api[i]\n",
    "    ax.scatter(x = idx[mv_sets[\"test_\" + str(i)]], y = np.array([i+1]*n)[mv_sets[\"test_\" + str(i)]], \n",
    "               c = \"black\", marker = \"^\", s = 70.0)\n",
    "    ax.scatter(x = idx[mv_sets[\"train_\" + str(i)]], y = np.array([i+1]*n)[mv_sets[\"train_\" + str(i)]], \n",
    "               c = \"gray\", marker = \".\", s = 70.0)\n",
    "    ax.set_ylabel(\"Fold\")\n",
    "    ax.set_xlabel(\"Observation\")\n",
    "    ax.set_ylim(bottom=.5, top=mv_api.max_iters+.5)\n",
    "\n",
    "# final adjustments\n",
    "sns.despine(fig, ax=ax, top=True, right=True, left=False, bottom=False, offset=None, trim=True)\n",
    "fig.legend((\"Test\", \"Train\"), loc=(.5, .5), bbox_to_anchor=(0.325, 1.), ncol=2, fancybox=True, shadow=True,)\n",
    "fig.suptitle(mv_api.me_method_label, fontsize=18, fontweight='bold', y = 1.15)"
   ]
  }
 ],
 "metadata": {
  "anaconda-cloud": {},
  "kernelspec": {
   "display_name": "Python 3",
   "language": "python",
   "name": "python3"
  },
  "language_info": {
   "codemirror_mode": {
    "name": "ipython",
    "version": 3
   },
   "file_extension": ".py",
   "mimetype": "text/x-python",
   "name": "python",
   "nbconvert_exporter": "python",
   "pygments_lexer": "ipython3",
   "version": "3.6.5"
  }
 },
 "nbformat": 4,
 "nbformat_minor": 1
}
